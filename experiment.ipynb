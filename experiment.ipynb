{
 "cells": [
  {
   "cell_type": "code",
   "execution_count": 3,
   "metadata": {},
   "outputs": [],
   "source": [
    "import MetaTrader5 as mt5\n",
    "import pandas as pd\n",
    "import datetime as dt\n",
    "import time"
   ]
  },
  {
   "cell_type": "code",
   "execution_count": 2,
   "metadata": {},
   "outputs": [
    {
     "output_type": "execute_result",
     "data": {
      "text/plain": "True"
     },
     "metadata": {},
     "execution_count": 2
    }
   ],
   "source": [
    "mt5.initialize()"
   ]
  },
  {
   "cell_type": "code",
   "execution_count": 31,
   "metadata": {},
   "outputs": [
    {
     "output_type": "execute_result",
     "data": {
      "text/plain": "                 time     open     high      low    close  tick_volume  \\\n0 2020-07-10 17:00:00  1.26372  1.26641  1.26301  1.26619         6571   \n1 2020-07-10 18:00:00  1.26618  1.26626  1.26413  1.26526         5262   \n2 2020-07-10 19:00:00  1.26526  1.26530  1.26210  1.26270         3897   \n3 2020-07-10 20:00:00  1.26270  1.26343  1.26211  1.26335         1997   \n4 2020-07-10 21:00:00  1.26335  1.26352  1.26245  1.26272         1795   \n5 2020-07-10 22:00:00  1.26272  1.26317  1.26206  1.26285         2564   \n\n   spread  real_volume  \n0       0            0  \n1       0            0  \n2       0            0  \n3       0            0  \n4       0            0  \n5       0            0  ",
      "text/html": "<div>\n<style scoped>\n    .dataframe tbody tr th:only-of-type {\n        vertical-align: middle;\n    }\n\n    .dataframe tbody tr th {\n        vertical-align: top;\n    }\n\n    .dataframe thead th {\n        text-align: right;\n    }\n</style>\n<table border=\"1\" class=\"dataframe\">\n  <thead>\n    <tr style=\"text-align: right;\">\n      <th></th>\n      <th>time</th>\n      <th>open</th>\n      <th>high</th>\n      <th>low</th>\n      <th>close</th>\n      <th>tick_volume</th>\n      <th>spread</th>\n      <th>real_volume</th>\n    </tr>\n  </thead>\n  <tbody>\n    <tr>\n      <th>0</th>\n      <td>2020-07-10 17:00:00</td>\n      <td>1.26372</td>\n      <td>1.26641</td>\n      <td>1.26301</td>\n      <td>1.26619</td>\n      <td>6571</td>\n      <td>0</td>\n      <td>0</td>\n    </tr>\n    <tr>\n      <th>1</th>\n      <td>2020-07-10 18:00:00</td>\n      <td>1.26618</td>\n      <td>1.26626</td>\n      <td>1.26413</td>\n      <td>1.26526</td>\n      <td>5262</td>\n      <td>0</td>\n      <td>0</td>\n    </tr>\n    <tr>\n      <th>2</th>\n      <td>2020-07-10 19:00:00</td>\n      <td>1.26526</td>\n      <td>1.26530</td>\n      <td>1.26210</td>\n      <td>1.26270</td>\n      <td>3897</td>\n      <td>0</td>\n      <td>0</td>\n    </tr>\n    <tr>\n      <th>3</th>\n      <td>2020-07-10 20:00:00</td>\n      <td>1.26270</td>\n      <td>1.26343</td>\n      <td>1.26211</td>\n      <td>1.26335</td>\n      <td>1997</td>\n      <td>0</td>\n      <td>0</td>\n    </tr>\n    <tr>\n      <th>4</th>\n      <td>2020-07-10 21:00:00</td>\n      <td>1.26335</td>\n      <td>1.26352</td>\n      <td>1.26245</td>\n      <td>1.26272</td>\n      <td>1795</td>\n      <td>0</td>\n      <td>0</td>\n    </tr>\n    <tr>\n      <th>5</th>\n      <td>2020-07-10 22:00:00</td>\n      <td>1.26272</td>\n      <td>1.26317</td>\n      <td>1.26206</td>\n      <td>1.26285</td>\n      <td>2564</td>\n      <td>0</td>\n      <td>0</td>\n    </tr>\n  </tbody>\n</table>\n</div>"
     },
     "metadata": {},
     "execution_count": 31
    }
   ],
   "source": [
    "symbol = 'GBPUSD'\n",
    "mt5.symbol_select(symbol)\n",
    "for i in range(2):\n",
    "    rateFrame = pd.DataFrame(mt5.copy_rates_from_pos(symbol, mt5.TIMEFRAME_H1, 1, 6))\n",
    "    time.sleep(1/2)\n",
    "\n",
    "rateFrame['time'] = pd.to_datetime(rateFrame['time'], unit='s')\n",
    "rateFrame"
   ]
  },
  {
   "cell_type": "code",
   "execution_count": 21,
   "metadata": {},
   "outputs": [
    {
     "output_type": "execute_result",
     "data": {
      "text/plain": "-0.3217268649856532"
     },
     "metadata": {},
     "execution_count": 21
    }
   ],
   "source": [
    "# Discarded\n",
    "\n",
    "(float(rateFrame.tail(1)['close']) - float(rateFrame.head(1)['open'])) / float(rateFrame.tail(1)['close']) * 100"
   ]
  },
  {
   "cell_type": "code",
   "execution_count": 34,
   "metadata": {},
   "outputs": [
    {
     "output_type": "execute_result",
     "data": {
      "text/plain": "-0.2644811339430573"
     },
     "metadata": {},
     "execution_count": 34
    }
   ],
   "source": [
    "((rateFrame.iloc[5, 4] - rateFrame.iloc[0, 4]) / rateFrame.iloc[5, 4]) * 100"
   ]
  },
  {
   "cell_type": "code",
   "execution_count": 43,
   "metadata": {},
   "outputs": [
    {
     "output_type": "execute_result",
     "data": {
      "text/plain": "-0.2644811339430573"
     },
     "metadata": {},
     "execution_count": 43
    }
   ],
   "source": [
    "period = 5\n",
    "symbol = 'GBPUSD'\n",
    "mt5.symbol_select(symbol)\n",
    "for i in range(2):\n",
    "    rateFrame = pd.DataFrame(mt5.copy_rates_from_pos(symbol, mt5.TIMEFRAME_H1, 1, (period + 1)))\n",
    "    time.sleep(1/2)\n",
    "\n",
    "# rateFrame['time'] = pd.to_datetime(rateFrame['time'], unit='s')\n",
    "((rateFrame.iloc[period, 4] - rateFrame.iloc[0, 4]) / rateFrame.iloc[period, 4]) * 100"
   ]
  },
  {
   "cell_type": "code",
   "execution_count": 44,
   "metadata": {},
   "outputs": [
    {
     "output_type": "execute_result",
     "data": {
      "text/plain": "-0.2636892742606054"
     },
     "metadata": {},
     "execution_count": 44
    }
   ],
   "source": [
    "period = 5\n",
    "symbol = 'GBPUSD'\n",
    "mt5.symbol_select(symbol)\n",
    "for i in range(2):\n",
    "    rateFrame = pd.DataFrame(mt5.copy_rates_from_pos(symbol, mt5.TIMEFRAME_H1, 1, period))\n",
    "    time.sleep(1/2)\n",
    "\n",
    "rateFrame['time'] = pd.to_datetime(rateFrame['time'], unit='s')\n",
    "# rateFrame\n",
    "((rateFrame.iloc[(period - 1), 4] - rateFrame.iloc[0, 1]) / rateFrame.iloc[(period - 1), 4]) * 100"
   ]
  },
  {
   "cell_type": "code",
   "execution_count": 8,
   "metadata": {},
   "outputs": [
    {
     "output_type": "execute_result",
     "data": {
      "text/plain": "array([],\n      dtype=[('time', '<i8'), ('bid', '<f8'), ('ask', '<f8'), ('last', '<f8'), ('volume', '<u8'), ('time_msc', '<i8'), ('flags', '<u4'), ('volume_real', '<f8')])"
     },
     "metadata": {},
     "execution_count": 8
    }
   ],
   "source": [
    "tiem = dt.datetime.now() - dt.timedelta(minutes=10)\n",
    "eurtic = mt5.copy_ticks_from('EURUSD', tiem, 1, mt5.COPY_TICKS_INFO)\n",
    "eurtic"
   ]
  }
 ],
 "metadata": {
  "language_info": {
   "codemirror_mode": {
    "name": "ipython",
    "version": 3
   },
   "file_extension": ".py",
   "mimetype": "text/x-python",
   "name": "python",
   "nbconvert_exporter": "python",
   "pygments_lexer": "ipython3",
   "version": 3
  },
  "orig_nbformat": 2,
  "kernelspec": {
   "name": "python_defaultSpec_1594465934070",
   "display_name": "Python 3.7.6 64-bit"
  }
 },
 "nbformat": 4,
 "nbformat_minor": 2
}